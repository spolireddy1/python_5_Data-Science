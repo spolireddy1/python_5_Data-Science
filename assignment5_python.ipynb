{
 "cells": [
  {
   "cell_type": "markdown",
   "metadata": {},
   "source": [
    "#Problem 1. Pig Latin.\n",
    "\n",
    "In \"Pig Latin\", English words are transformed according to the following rules:\n",
    "\n",
    "* If the word begins with one or more consonants, those consonants are moved to the end of the word, followed by \"ay\":\n",
    "\n",
    "  * pig -> igpay\n",
    "  * Latin -> Atinlay\n",
    "  * trash -> ashtray\n",
    "\n",
    "* If the word begins with a vowel, it is followed by \"yay\":\n",
    "\n",
    "  * apple -> appleyay\n",
    "  * out -> outyay.\n",
    "  \n",
    "Write Python code that takes a word and converts it to Pig Latin.  If the input consists of multiple words or contains punctuation, your code should print a suitable error message."
   ]
  },
  {
   "cell_type": "code",
   "execution_count": 19,
   "metadata": {
    "collapsed": false
   },
   "outputs": [
    {
     "name": "stdout",
     "output_type": "stream",
     "text": [
      "igpay\n",
      "atinlay\n",
      "ashtray\n",
      "----------------------\n",
      "appleyay\n",
      "outyay\n"
     ]
    }
   ],
   "source": [
    "VOWELS = (\"a\", \"e\", \"i\", \"o\", \"u\", \"A\", \"E\", \"I\", \"O\", \"U\")\n",
    "\n",
    "def PigLatinConv(word):\n",
    "    \n",
    "    if word[0] in VOWELS:\n",
    "        return( word + \"yay\")\n",
    "    else:\n",
    "        i = 0\n",
    "        str1 = \"\"\n",
    "        while word[i] not in VOWELS:\n",
    "            str1 = str1 + word[i]\n",
    "            i = i + 1\n",
    "        return(word[i:] + str1.lower() + \"ay\")\n",
    "\n",
    "    \n",
    "print(PigLatinConv(\"pig\"))\n",
    "print(PigLatinConv(\"Latin\"))\n",
    "print(PigLatinConv(\"trash\"))\n",
    "\n",
    "print(\"----------------------\")\n",
    "print(PigLatinConv(\"apple\"))\n",
    "print(PigLatinConv(\"out\"))\n",
    "\n",
    "\n"
   ]
  },
  {
   "cell_type": "markdown",
   "metadata": {},
   "source": [
    "#Problem 2(a).  Letter Frequencies.\n",
    "\n",
    "The files ```encryptedA.txt``` and ```encryptedB.txt``` contain two different encrypted messages on similar topics.  One message was originally in English and one was in Welsh.  \n",
    "\n",
    "Write Python code that reads a text file into memory and creates a dictionary object with a frequency count for each letter.  For example, for ```encryptedA.txt```, your output should begin ```{'a': 78, 'b': 31, ...} ```.  Do not distinguish between uppercase and lowercase letters, and ignore punctuation.\n",
    "\n",
    "Which letter has the highest frequency in each text file?"
   ]
  },
  {
   "cell_type": "code",
   "execution_count": 42,
   "metadata": {
    "collapsed": false,
    "scrolled": true
   },
   "outputs": [
    {
     "name": "stdout",
     "output_type": "stream",
     "text": [
      "{'u': 70, 'a': 78, 'c': 88, 'y': 40, 'd': 28, 'g': 78, 'j': 36, 'l': 32, 'm': 76, 't': 19, 'i': 7, 'q': 41, 'w': 76, 'b': 31, 'v': 27, 'z': 16, 'k': 22, 'f': 18, 'x': 72, 'r': 114}\n",
      "The highest letter in frequency is : r with 114 times\n"
     ]
    }
   ],
   "source": [
    "import re\n",
    "\n",
    "with open(\"encryptedA.txt\") as text:\n",
    "    block = text.read()\n",
    "pattern = re.compile(\"[a-zA-Z0-9]+\")\n",
    "\n",
    "my_dict = {}\n",
    "for word in pattern.findall(block):\n",
    "    for ch in word:\n",
    "        #print(ch)\n",
    "        key = ch\n",
    "        if key in my_dict:\n",
    "            my_dict[key] += 1\n",
    "        else:\n",
    "            my_dict[key] = 1\n",
    "\n",
    "print(my_dict)\n",
    "\n",
    "print( \"The highest letter in frequency is : \" + max(my_dict, key=my_dict.get) + \" with \" + str(my_dict[max(my_dict, key=my_dict.get)]) + \" times\")\n",
    "\n",
    "\n",
    "\n",
    "\n",
    "\n"
   ]
  },
  {
   "cell_type": "code",
   "execution_count": 43,
   "metadata": {
    "collapsed": false
   },
   "outputs": [
    {
     "name": "stdout",
     "output_type": "stream",
     "text": [
      "{'a': 13, 'm': 4, 'y': 92, 'g': 56, 'n': 79, 't': 34, 'q': 17, 'u': 19, 'h': 48, 'o': 48, 'p': 23, 'x': 97, 'r': 13, 'j': 23, 'c': 54, 'd': 30, 'e': 28, 'l': 14, 'w': 43, 'b': 5, 'v': 123, 'z': 61, 'k': 85, 's': 61, 'f': 2, 'i': 6}\n",
      "The highest letter in frequency is : v with 123 times\n"
     ]
    }
   ],
   "source": [
    "import re\n",
    "\n",
    "with open(\"encryptedB.txt\") as text:\n",
    "    block = text.read()\n",
    "pattern = re.compile(\"[a-zA-Z0-9]+\")\n",
    "\n",
    "my_dict1 = {}\n",
    "for word in pattern.findall(block):\n",
    "    for ch in word:\n",
    "        #print(ch)\n",
    "        key = ch\n",
    "        if key in my_dict:\n",
    "            my_dict1[key] += 1\n",
    "        else:\n",
    "            my_dict[1key] = 1\n",
    "\n",
    "print(my_dict1)\n",
    "\n",
    "print( \"The highest letter in frequency is : \" + max(my_dict, key=my_dict.get) + \" with \" + str(my_dict[max(my_dict, key=my_dict.get)]) + \" times\")"
   ]
  },
  {
   "cell_type": "markdown",
   "metadata": {},
   "source": [
    "#Problem 2(b).  Formatting for R.\n",
    "\n",
    "Write your dictionaries with frequency counts to ```.csv``` files, with one column for the key and one column for the frequency counted."
   ]
  },
  {
   "cell_type": "code",
   "execution_count": 57,
   "metadata": {
    "collapsed": false
   },
   "outputs": [],
   "source": [
    "import csv\n",
    "\n",
    "with open('mycsvfile.csv', 'w') as f:  # Just use 'w' mode in 3.x\n",
    "    w = csv.DictWriter(f, my_dict.keys())\n",
    "    w.writeheader()\n",
    "    w.writerow(my_dict)"
   ]
  },
  {
   "cell_type": "code",
   "execution_count": 56,
   "metadata": {
    "collapsed": false
   },
   "outputs": [
    {
     "ename": "ValueError",
     "evalue": "dictionary update sequence element #0 has length 26; 2 is required",
     "output_type": "error",
     "traceback": [
      "\u001b[1;31m---------------------------------------------------------------------------\u001b[0m",
      "\u001b[1;31mValueError\u001b[0m                                Traceback (most recent call last)",
      "\u001b[1;32m<ipython-input-56-416c19dd2572>\u001b[0m in \u001b[0;36m<module>\u001b[1;34m()\u001b[0m\n\u001b[0;32m      1\u001b[0m \u001b[0mreader\u001b[0m \u001b[1;33m=\u001b[0m \u001b[0mcsv\u001b[0m\u001b[1;33m.\u001b[0m\u001b[0mreader\u001b[0m\u001b[1;33m(\u001b[0m\u001b[0mopen\u001b[0m\u001b[1;33m(\u001b[0m\u001b[1;34m'mycsvfile.csv'\u001b[0m\u001b[1;33m,\u001b[0m \u001b[1;34m'r'\u001b[0m\u001b[1;33m)\u001b[0m\u001b[1;33m)\u001b[0m\u001b[1;33m\u001b[0m\u001b[0m\n\u001b[1;32m----> 2\u001b[1;33m \u001b[0mmydict\u001b[0m \u001b[1;33m=\u001b[0m \u001b[0mdict\u001b[0m\u001b[1;33m(\u001b[0m\u001b[0mreader\u001b[0m\u001b[1;33m)\u001b[0m\u001b[1;33m\u001b[0m\u001b[0m\n\u001b[0m\u001b[0;32m      3\u001b[0m \u001b[0mprint\u001b[0m\u001b[1;33m(\u001b[0m\u001b[0mmydict\u001b[0m\u001b[1;33m)\u001b[0m\u001b[1;33m\u001b[0m\u001b[0m\n",
      "\u001b[1;31mValueError\u001b[0m: dictionary update sequence element #0 has length 26; 2 is required"
     ]
    }
   ],
   "source": [
    "reader = csv.reader(open('mycsvfile.csv', 'r'))\n",
    "mydict = dict(reader)\n",
    "print(mydict)"
   ]
  },
  {
   "cell_type": "code",
   "execution_count": null,
   "metadata": {
    "collapsed": true
   },
   "outputs": [],
   "source": []
  }
 ],
 "metadata": {
  "kernelspec": {
   "display_name": "Python 3",
   "language": "python",
   "name": "python3"
  },
  "language_info": {
   "codemirror_mode": {
    "name": "ipython",
    "version": 3
   },
   "file_extension": ".py",
   "mimetype": "text/x-python",
   "name": "python",
   "nbconvert_exporter": "python",
   "pygments_lexer": "ipython3",
   "version": "3.5.1"
  }
 },
 "nbformat": 4,
 "nbformat_minor": 0
}
